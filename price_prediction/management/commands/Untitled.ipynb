{
 "cells": [
  {
   "cell_type": "code",
   "execution_count": 2,
   "id": "f4f61ac7-598c-432a-b906-8f3b9fd39ae3",
   "metadata": {},
   "outputs": [
    {
     "data": {
      "text/html": [
       "<div>\n",
       "<style scoped>\n",
       "    .dataframe tbody tr th:only-of-type {\n",
       "        vertical-align: middle;\n",
       "    }\n",
       "\n",
       "    .dataframe tbody tr th {\n",
       "        vertical-align: top;\n",
       "    }\n",
       "\n",
       "    .dataframe thead th {\n",
       "        text-align: right;\n",
       "    }\n",
       "</style>\n",
       "<table border=\"1\" class=\"dataframe\">\n",
       "  <thead>\n",
       "    <tr style=\"text-align: right;\">\n",
       "      <th></th>\n",
       "      <th>Commodity</th>\n",
       "      <th>Date</th>\n",
       "      <th>Unit</th>\n",
       "      <th>Minimum</th>\n",
       "      <th>Maximum</th>\n",
       "      <th>Average</th>\n",
       "    </tr>\n",
       "  </thead>\n",
       "  <tbody>\n",
       "    <tr>\n",
       "      <th>0</th>\n",
       "      <td>Tomato Big(Nepali)</td>\n",
       "      <td>2013-06-16</td>\n",
       "      <td>Kg</td>\n",
       "      <td>35.0</td>\n",
       "      <td>40.0</td>\n",
       "      <td>37.5</td>\n",
       "    </tr>\n",
       "    <tr>\n",
       "      <th>1</th>\n",
       "      <td>Potato White</td>\n",
       "      <td>2013-06-16</td>\n",
       "      <td>Kg</td>\n",
       "      <td>15.0</td>\n",
       "      <td>16.0</td>\n",
       "      <td>15.5</td>\n",
       "    </tr>\n",
       "    <tr>\n",
       "      <th>2</th>\n",
       "      <td>Onion Dry (Indian)</td>\n",
       "      <td>2013-06-16</td>\n",
       "      <td>Kg</td>\n",
       "      <td>28.0</td>\n",
       "      <td>30.0</td>\n",
       "      <td>29.0</td>\n",
       "    </tr>\n",
       "    <tr>\n",
       "      <th>3</th>\n",
       "      <td>Carrot(Local)</td>\n",
       "      <td>2013-06-16</td>\n",
       "      <td>Kg</td>\n",
       "      <td>30.0</td>\n",
       "      <td>35.0</td>\n",
       "      <td>32.5</td>\n",
       "    </tr>\n",
       "    <tr>\n",
       "      <th>4</th>\n",
       "      <td>Lettuce</td>\n",
       "      <td>2013-06-16</td>\n",
       "      <td>Kg</td>\n",
       "      <td>55.0</td>\n",
       "      <td>60.0</td>\n",
       "      <td>57.5</td>\n",
       "    </tr>\n",
       "  </tbody>\n",
       "</table>\n",
       "</div>"
      ],
      "text/plain": [
       "            Commodity       Date Unit  Minimum  Maximum  Average\n",
       "0  Tomato Big(Nepali) 2013-06-16   Kg     35.0     40.0     37.5\n",
       "1        Potato White 2013-06-16   Kg     15.0     16.0     15.5\n",
       "2  Onion Dry (Indian) 2013-06-16   Kg     28.0     30.0     29.0\n",
       "3       Carrot(Local) 2013-06-16   Kg     30.0     35.0     32.5\n",
       "4             Lettuce 2013-06-16   Kg     55.0     60.0     57.5"
      ]
     },
     "execution_count": 2,
     "metadata": {},
     "output_type": "execute_result"
    }
   ],
   "source": [
    "import pandas as pd\n",
    "\n",
    "# Load the data\n",
    "file_path = r'C:\\Final year Project\\AgroPrice\\price_prediction\\management\\commands\\preprocessed_data.xlsx'\n",
    "df = pd.read_excel(file_path)\n",
    "\n",
    "# Define a function to clean and convert values to decimal\n",
    "def clean_and_convert(value):\n",
    "    try:\n",
    "        if isinstance(value, str):\n",
    "            return float(value.replace('Rs', '').replace(',', '').strip())\n",
    "        elif isinstance(value, (int, float)):\n",
    "            return float(value)\n",
    "        else:\n",
    "            return None\n",
    "    except ValueError:\n",
    "        return None\n",
    "\n",
    "# Apply the cleaning function to relevant columns\n",
    "df['Minimum'] = df['Minimum'].apply(clean_and_convert)\n",
    "df['Maximum'] = df['Maximum'].apply(clean_and_convert)\n",
    "df['Average'] = df['Average'].apply(clean_and_convert)\n",
    "\n",
    "# Display the cleaned DataFrame\n",
    "df.head()\n"
   ]
  },
  {
   "cell_type": "code",
   "execution_count": 3,
   "id": "a372d126-0cd2-4e35-875b-a7070fd18c15",
   "metadata": {},
   "outputs": [
    {
     "name": "stdout",
     "output_type": "stream",
     "text": [
      "Cleaned data saved to: C:\\Final year Project\\AgroPrice\\price_prediction\\management\\commands\\cleaned_data.xlsx\n"
     ]
    }
   ],
   "source": [
    "cleaned_file_path = r'C:\\Final year Project\\AgroPrice\\price_prediction\\management\\commands\\cleaned_data.xlsx'\n",
    "df.to_excel(cleaned_file_path, index=False)\n",
    "\n",
    "print(f\"Cleaned data saved to: {cleaned_file_path}\")"
   ]
  },
  {
   "cell_type": "code",
   "execution_count": null,
   "id": "6254f660-0bb0-42a3-9de1-2426444e550e",
   "metadata": {},
   "outputs": [],
   "source": []
  }
 ],
 "metadata": {
  "kernelspec": {
   "display_name": "Python 3 (ipykernel)",
   "language": "python",
   "name": "python3"
  },
  "language_info": {
   "codemirror_mode": {
    "name": "ipython",
    "version": 3
   },
   "file_extension": ".py",
   "mimetype": "text/x-python",
   "name": "python",
   "nbconvert_exporter": "python",
   "pygments_lexer": "ipython3",
   "version": "3.11.5"
  }
 },
 "nbformat": 4,
 "nbformat_minor": 5
}
