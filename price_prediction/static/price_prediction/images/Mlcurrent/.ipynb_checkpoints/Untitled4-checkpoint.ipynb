{
 "cells": [
  {
   "cell_type": "code",
   "execution_count": 1,
   "id": "1ce58fcd-e910-4594-b42a-c0e6f63eabb4",
   "metadata": {},
   "outputs": [
    {
     "name": "stdout",
     "output_type": "stream",
     "text": [
      "Requirement already satisfied: inflect in c:\\users\\nirvi\\appdata\\local\\programs\\python\\python311\\lib\\site-packages (7.0.0)\n",
      "Requirement already satisfied: pydantic>=1.9.1 in c:\\users\\nirvi\\appdata\\local\\programs\\python\\python311\\lib\\site-packages (from inflect) (2.5.2)\n",
      "Requirement already satisfied: typing-extensions in c:\\users\\nirvi\\appdata\\local\\programs\\python\\python311\\lib\\site-packages (from inflect) (4.8.0)\n",
      "Requirement already satisfied: annotated-types>=0.4.0 in c:\\users\\nirvi\\appdata\\local\\programs\\python\\python311\\lib\\site-packages (from pydantic>=1.9.1->inflect) (0.6.0)\n",
      "Requirement already satisfied: pydantic-core==2.14.5 in c:\\users\\nirvi\\appdata\\local\\programs\\python\\python311\\lib\\site-packages (from pydantic>=1.9.1->inflect) (2.14.5)\n"
     ]
    }
   ],
   "source": [
    "import pandas as pd\n",
    "import numpy as np\n",
    "import matplotlib.pyplot as plt\n",
    "import seaborn as sns\n",
    "from dateutil import parser\n",
    "import re\n",
    "import matplotlib.patches as patches\n",
    "import matplotlib\n",
    "!pip install inflect\n",
    "import inflect"
   ]
  },
  {
   "cell_type": "code",
   "execution_count": 2,
   "id": "c53f4395-fa24-4b2f-8e67-d5aae39d7040",
   "metadata": {},
   "outputs": [
    {
     "data": {
      "text/html": [
       "<div>\n",
       "<style scoped>\n",
       "    .dataframe tbody tr th:only-of-type {\n",
       "        vertical-align: middle;\n",
       "    }\n",
       "\n",
       "    .dataframe tbody tr th {\n",
       "        vertical-align: top;\n",
       "    }\n",
       "\n",
       "    .dataframe thead th {\n",
       "        text-align: right;\n",
       "    }\n",
       "</style>\n",
       "<table border=\"1\" class=\"dataframe\">\n",
       "  <thead>\n",
       "    <tr style=\"text-align: right;\">\n",
       "      <th></th>\n",
       "      <th>Commodity</th>\n",
       "      <th>Date</th>\n",
       "      <th>Unit</th>\n",
       "      <th>Minimum</th>\n",
       "      <th>Maximum</th>\n",
       "      <th>Average</th>\n",
       "    </tr>\n",
       "  </thead>\n",
       "  <tbody>\n",
       "    <tr>\n",
       "      <th>0</th>\n",
       "      <td>Tomato Big(Nepali)</td>\n",
       "      <td>6/16/2013</td>\n",
       "      <td>Kg</td>\n",
       "      <td>35</td>\n",
       "      <td>40</td>\n",
       "      <td>37.5</td>\n",
       "    </tr>\n",
       "    <tr>\n",
       "      <th>1</th>\n",
       "      <td>Tomato Small(Local)</td>\n",
       "      <td>6/16/2013</td>\n",
       "      <td>Kg</td>\n",
       "      <td>26</td>\n",
       "      <td>32</td>\n",
       "      <td>29</td>\n",
       "    </tr>\n",
       "    <tr>\n",
       "      <th>2</th>\n",
       "      <td>Potato Red</td>\n",
       "      <td>6/16/2013</td>\n",
       "      <td>Kg</td>\n",
       "      <td>20</td>\n",
       "      <td>21</td>\n",
       "      <td>20.5</td>\n",
       "    </tr>\n",
       "    <tr>\n",
       "      <th>3</th>\n",
       "      <td>Potato White</td>\n",
       "      <td>6/16/2013</td>\n",
       "      <td>Kg</td>\n",
       "      <td>15</td>\n",
       "      <td>16</td>\n",
       "      <td>15.5</td>\n",
       "    </tr>\n",
       "    <tr>\n",
       "      <th>4</th>\n",
       "      <td>Onion Dry (Indian)</td>\n",
       "      <td>6/16/2013</td>\n",
       "      <td>Kg</td>\n",
       "      <td>28</td>\n",
       "      <td>30</td>\n",
       "      <td>29</td>\n",
       "    </tr>\n",
       "  </tbody>\n",
       "</table>\n",
       "</div>"
      ],
      "text/plain": [
       "             Commodity       Date Unit Minimum Maximum Average\n",
       "0   Tomato Big(Nepali)  6/16/2013   Kg      35      40    37.5\n",
       "1  Tomato Small(Local)  6/16/2013   Kg      26      32      29\n",
       "2           Potato Red  6/16/2013   Kg      20      21    20.5\n",
       "3         Potato White  6/16/2013   Kg      15      16    15.5\n",
       "4   Onion Dry (Indian)  6/16/2013   Kg      28      30      29"
      ]
     },
     "execution_count": 2,
     "metadata": {},
     "output_type": "execute_result"
    }
   ],
   "source": [
    "data = pd.read_csv(\"Tarkari.csv\", low_memory=False)\n",
    "data.head()"
   ]
  },
  {
   "cell_type": "code",
   "execution_count": 3,
   "id": "c2e8f4a2-5e9a-4ec1-af30-aca04cf01e02",
   "metadata": {},
   "outputs": [],
   "source": [
    "data['Date'] = pd.to_datetime(data['Date'])"
   ]
  },
  {
   "cell_type": "code",
   "execution_count": 4,
   "id": "8d20d86b-6474-4808-945c-02bf527ef697",
   "metadata": {},
   "outputs": [],
   "source": [
    "pattern = r\"^Rs\\s+\"\n",
    "data[\"Minimum\"] = pd.to_numeric(data[\"Minimum\"].apply(lambda x: x if not str(x).startswith(\"Rs\") else re.sub(pattern,\"\",str(x))))\n",
    "data[\"Maximum\"] = pd.to_numeric(data[\"Maximum\"].apply(lambda x: x if not str(x).startswith(\"Rs\") else re.sub(r\"^Rs\\s+\", \"\",str(x))))\n",
    "data[\"Average\"] = pd.to_numeric(data[\"Average\"].apply(lambda x: x if not str(x).startswith(\"Rs\") else re.sub(r\"^Rs\\s+\", \"\", str(x))))"
   ]
  },
  {
   "cell_type": "code",
   "execution_count": 5,
   "id": "ecd880f2-9dcc-4df1-a775-2289aede07aa",
   "metadata": {},
   "outputs": [],
   "source": [
    "selected_commodities = ['Onion Dry (Indian)', 'Tomato Big(Nepali)', 'Potato White', 'Carrot(Local)', 'Apple(Jholey)', 'Spinach', 'Banana', 'Cucumber(Local)', 'Garlic Dry Nepali', 'Lettuce']\n",
    "selected_data = data[data['Commodity'].isin(selected_commodities)].copy()"
   ]
  },
  {
   "cell_type": "code",
   "execution_count": 6,
   "id": "8a2e2437-1279-4599-bea7-1a7cc3f9e1dd",
   "metadata": {},
   "outputs": [],
   "source": [
    "selected_data.loc[:, 'Season'] = selected_data['Date'].dt.month.map({1: 'Winter', 2: 'Winter', 3: 'Spring', 4: 'Spring', 5: 'Spring', 6: 'Summer', 7: 'Summer', 8: 'Summer', 9: 'Fall', 10: 'Fall', 11: 'Fall', 12: 'Winter'})"
   ]
  },
  {
   "cell_type": "code",
   "execution_count": 7,
   "id": "12bf1c2b-dcbe-4482-be2c-44f9ada4feda",
   "metadata": {},
   "outputs": [
    {
     "data": {
      "text/html": [
       "<div>\n",
       "<style scoped>\n",
       "    .dataframe tbody tr th:only-of-type {\n",
       "        vertical-align: middle;\n",
       "    }\n",
       "\n",
       "    .dataframe tbody tr th {\n",
       "        vertical-align: top;\n",
       "    }\n",
       "\n",
       "    .dataframe thead th {\n",
       "        text-align: right;\n",
       "    }\n",
       "</style>\n",
       "<table border=\"1\" class=\"dataframe\">\n",
       "  <thead>\n",
       "    <tr style=\"text-align: right;\">\n",
       "      <th></th>\n",
       "      <th>Commodity</th>\n",
       "      <th>Date</th>\n",
       "      <th>Unit</th>\n",
       "      <th>Minimum</th>\n",
       "      <th>Maximum</th>\n",
       "      <th>Average</th>\n",
       "      <th>Season</th>\n",
       "    </tr>\n",
       "  </thead>\n",
       "  <tbody>\n",
       "    <tr>\n",
       "      <th>0</th>\n",
       "      <td>Tomato Big(Nepali)</td>\n",
       "      <td>2013-06-16</td>\n",
       "      <td>Kg</td>\n",
       "      <td>35.0</td>\n",
       "      <td>40.0</td>\n",
       "      <td>37.5</td>\n",
       "      <td>Summer</td>\n",
       "    </tr>\n",
       "    <tr>\n",
       "      <th>3</th>\n",
       "      <td>Potato White</td>\n",
       "      <td>2013-06-16</td>\n",
       "      <td>Kg</td>\n",
       "      <td>15.0</td>\n",
       "      <td>16.0</td>\n",
       "      <td>15.5</td>\n",
       "      <td>Summer</td>\n",
       "    </tr>\n",
       "    <tr>\n",
       "      <th>4</th>\n",
       "      <td>Onion Dry (Indian)</td>\n",
       "      <td>2013-06-16</td>\n",
       "      <td>Kg</td>\n",
       "      <td>28.0</td>\n",
       "      <td>30.0</td>\n",
       "      <td>29.0</td>\n",
       "      <td>Summer</td>\n",
       "    </tr>\n",
       "    <tr>\n",
       "      <th>5</th>\n",
       "      <td>Carrot(Local)</td>\n",
       "      <td>2013-06-16</td>\n",
       "      <td>Kg</td>\n",
       "      <td>30.0</td>\n",
       "      <td>35.0</td>\n",
       "      <td>32.5</td>\n",
       "      <td>Summer</td>\n",
       "    </tr>\n",
       "    <tr>\n",
       "      <th>40</th>\n",
       "      <td>Lettuce</td>\n",
       "      <td>2013-06-16</td>\n",
       "      <td>Kg</td>\n",
       "      <td>55.0</td>\n",
       "      <td>60.0</td>\n",
       "      <td>57.5</td>\n",
       "      <td>Summer</td>\n",
       "    </tr>\n",
       "  </tbody>\n",
       "</table>\n",
       "</div>"
      ],
      "text/plain": [
       "             Commodity       Date Unit  Minimum  Maximum  Average  Season\n",
       "0   Tomato Big(Nepali) 2013-06-16   Kg     35.0     40.0     37.5  Summer\n",
       "3         Potato White 2013-06-16   Kg     15.0     16.0     15.5  Summer\n",
       "4   Onion Dry (Indian) 2013-06-16   Kg     28.0     30.0     29.0  Summer\n",
       "5        Carrot(Local) 2013-06-16   Kg     30.0     35.0     32.5  Summer\n",
       "40             Lettuce 2013-06-16   Kg     55.0     60.0     57.5  Summer"
      ]
     },
     "execution_count": 7,
     "metadata": {},
     "output_type": "execute_result"
    }
   ],
   "source": [
    "selected_data.head()"
   ]
  },
  {
   "cell_type": "code",
   "execution_count": 9,
   "id": "1a7ed243-4c6b-4ce5-9c01-0caecc43e5be",
   "metadata": {},
   "outputs": [],
   "source": [
    "selected_data['Date'] = pd.to_datetime(selected_data['Date'])\n",
    "\n",
    "# Extract features from the date\n",
    "selected_data['day'] = selected_data['Date'].dt.day\n",
    "selected_data['month'] = selected_data['Date'].dt.month\n",
    "selected_data['year'] = selected_data['Date'].dt.year\n"
   ]
  },
  {
   "cell_type": "code",
   "execution_count": 10,
   "id": "0ac48640-e8ef-42de-b3bd-57bcbd008848",
   "metadata": {},
   "outputs": [
    {
     "name": "stdout",
     "output_type": "stream",
     "text": [
      "             Commodity       Date Unit  Minimum  Maximum  Average  day  month  \\\n",
      "0   Tomato Big(Nepali) 2013-06-16   Kg     35.0     40.0     37.5   16      6   \n",
      "3         Potato White 2013-06-16   Kg     15.0     16.0     15.5   16      6   \n",
      "4   Onion Dry (Indian) 2013-06-16   Kg     28.0     30.0     29.0   16      6   \n",
      "5        Carrot(Local) 2013-06-16   Kg     30.0     35.0     32.5   16      6   \n",
      "40             Lettuce 2013-06-16   Kg     55.0     60.0     57.5   16      6   \n",
      "\n",
      "    year  Season_Fall  Season_Spring  Season_Summer  Season_Winter  \n",
      "0   2013        False          False           True          False  \n",
      "3   2013        False          False           True          False  \n",
      "4   2013        False          False           True          False  \n",
      "5   2013        False          False           True          False  \n",
      "40  2013        False          False           True          False  \n"
     ]
    }
   ],
   "source": [
    "selected_data['Season'] = pd.Categorical(selected_data['Season'])\n",
    "\n",
    "# Create one-hot encoded columns\n",
    "season_dummies = pd.get_dummies(selected_data['Season'], prefix='Season')\n",
    "\n",
    "# Concatenate the one-hot encoded columns with the original DataFrame\n",
    "selected_data = pd.concat([selected_data, season_dummies], axis=1)\n",
    "\n",
    "# Drop the original 'season' column if needed\n",
    "selected_data.drop('Season', axis=1, inplace=True)\n",
    "\n",
    "# Display the updated DataFrame\n",
    "print(selected_data.head())"
   ]
  },
  {
   "cell_type": "code",
   "execution_count": 11,
   "id": "7d48d676-ba51-40ff-968d-ef22bfe175cb",
   "metadata": {},
   "outputs": [],
   "source": [
    "selected_data.to_csv('C:/Users/nirvi/OneDrive/Desktop/Programs/Mlcurrent/features.csv', index=False)"
   ]
  },
  {
   "cell_type": "code",
   "execution_count": null,
   "id": "a33bd1cc-e176-4715-a051-b21dbf07a31d",
   "metadata": {},
   "outputs": [],
   "source": []
  }
 ],
 "metadata": {
  "kernelspec": {
   "display_name": "Python 3 (ipykernel)",
   "language": "python",
   "name": "python3"
  },
  "language_info": {
   "codemirror_mode": {
    "name": "ipython",
    "version": 3
   },
   "file_extension": ".py",
   "mimetype": "text/x-python",
   "name": "python",
   "nbconvert_exporter": "python",
   "pygments_lexer": "ipython3",
   "version": "3.11.5"
  }
 },
 "nbformat": 4,
 "nbformat_minor": 5
}
