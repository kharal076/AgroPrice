{
 "cells": [
  {
   "cell_type": "code",
   "execution_count": 1,
   "id": "d96d524e-450a-471c-817e-0ccdc8b218cf",
   "metadata": {},
   "outputs": [
    {
     "name": "stdout",
     "output_type": "stream",
     "text": [
      "Requirement already satisfied: inflect in c:\\users\\nirvi\\appdata\\local\\programs\\python\\python311\\lib\\site-packages (7.0.0)\n",
      "Requirement already satisfied: pydantic>=1.9.1 in c:\\users\\nirvi\\appdata\\local\\programs\\python\\python311\\lib\\site-packages (from inflect) (2.5.2)\n",
      "Requirement already satisfied: typing-extensions in c:\\users\\nirvi\\appdata\\local\\programs\\python\\python311\\lib\\site-packages (from inflect) (4.8.0)\n",
      "Requirement already satisfied: annotated-types>=0.4.0 in c:\\users\\nirvi\\appdata\\local\\programs\\python\\python311\\lib\\site-packages (from pydantic>=1.9.1->inflect) (0.6.0)\n",
      "Requirement already satisfied: pydantic-core==2.14.5 in c:\\users\\nirvi\\appdata\\local\\programs\\python\\python311\\lib\\site-packages (from pydantic>=1.9.1->inflect) (2.14.5)\n"
     ]
    }
   ],
   "source": [
    "import pandas as pd\n",
    "import numpy as np\n",
    "import matplotlib.pyplot as plt\n",
    "import seaborn as sns\n",
    "from dateutil import parser\n",
    "import re\n",
    "import matplotlib.patches as patches\n",
    "import matplotlib\n",
    "!pip install inflect\n",
    "import inflect"
   ]
  },
  {
   "cell_type": "code",
   "execution_count": 2,
   "id": "0c87d025-4e7d-45d7-9b4e-d55a62dfed90",
   "metadata": {},
   "outputs": [
    {
     "data": {
      "text/html": [
       "<div>\n",
       "<style scoped>\n",
       "    .dataframe tbody tr th:only-of-type {\n",
       "        vertical-align: middle;\n",
       "    }\n",
       "\n",
       "    .dataframe tbody tr th {\n",
       "        vertical-align: top;\n",
       "    }\n",
       "\n",
       "    .dataframe thead th {\n",
       "        text-align: right;\n",
       "    }\n",
       "</style>\n",
       "<table border=\"1\" class=\"dataframe\">\n",
       "  <thead>\n",
       "    <tr style=\"text-align: right;\">\n",
       "      <th></th>\n",
       "      <th>Commodity</th>\n",
       "      <th>Date</th>\n",
       "      <th>Unit</th>\n",
       "      <th>Minimum</th>\n",
       "      <th>Maximum</th>\n",
       "      <th>Average</th>\n",
       "    </tr>\n",
       "  </thead>\n",
       "  <tbody>\n",
       "    <tr>\n",
       "      <th>0</th>\n",
       "      <td>Tomato Big(Nepali)</td>\n",
       "      <td>6/16/2013</td>\n",
       "      <td>Kg</td>\n",
       "      <td>35</td>\n",
       "      <td>40</td>\n",
       "      <td>37.5</td>\n",
       "    </tr>\n",
       "    <tr>\n",
       "      <th>1</th>\n",
       "      <td>Tomato Small(Local)</td>\n",
       "      <td>6/16/2013</td>\n",
       "      <td>Kg</td>\n",
       "      <td>26</td>\n",
       "      <td>32</td>\n",
       "      <td>29</td>\n",
       "    </tr>\n",
       "    <tr>\n",
       "      <th>2</th>\n",
       "      <td>Potato Red</td>\n",
       "      <td>6/16/2013</td>\n",
       "      <td>Kg</td>\n",
       "      <td>20</td>\n",
       "      <td>21</td>\n",
       "      <td>20.5</td>\n",
       "    </tr>\n",
       "    <tr>\n",
       "      <th>3</th>\n",
       "      <td>Potato White</td>\n",
       "      <td>6/16/2013</td>\n",
       "      <td>Kg</td>\n",
       "      <td>15</td>\n",
       "      <td>16</td>\n",
       "      <td>15.5</td>\n",
       "    </tr>\n",
       "    <tr>\n",
       "      <th>4</th>\n",
       "      <td>Onion Dry (Indian)</td>\n",
       "      <td>6/16/2013</td>\n",
       "      <td>Kg</td>\n",
       "      <td>28</td>\n",
       "      <td>30</td>\n",
       "      <td>29</td>\n",
       "    </tr>\n",
       "  </tbody>\n",
       "</table>\n",
       "</div>"
      ],
      "text/plain": [
       "             Commodity       Date Unit Minimum Maximum Average\n",
       "0   Tomato Big(Nepali)  6/16/2013   Kg      35      40    37.5\n",
       "1  Tomato Small(Local)  6/16/2013   Kg      26      32      29\n",
       "2           Potato Red  6/16/2013   Kg      20      21    20.5\n",
       "3         Potato White  6/16/2013   Kg      15      16    15.5\n",
       "4   Onion Dry (Indian)  6/16/2013   Kg      28      30      29"
      ]
     },
     "execution_count": 2,
     "metadata": {},
     "output_type": "execute_result"
    }
   ],
   "source": [
    "data = pd.read_csv(\"Tarkari.csv\", low_memory=False)\n",
    "data.head()"
   ]
  },
  {
   "cell_type": "code",
   "execution_count": 3,
   "id": "4625822b-7918-44f9-9b4e-1a5993fa6d9e",
   "metadata": {},
   "outputs": [],
   "source": [
    "data['Date'] = pd.to_datetime(data['Date'])"
   ]
  },
  {
   "cell_type": "code",
   "execution_count": 5,
   "id": "e8687e2e-6cfc-402b-9c4f-00608c190965",
   "metadata": {},
   "outputs": [],
   "source": [
    "pattern = r\"^Rs\\s+\"\n",
    "data[\"Minimum\"] = pd.to_numeric(data[\"Minimum\"].apply(lambda x: x if not str(x).startswith(\"Rs\") else re.sub(pattern,\"\",str(x))))\n",
    "data[\"Maximum\"] = pd.to_numeric(data[\"Maximum\"].apply(lambda x: x if not str(x).startswith(\"Rs\") else re.sub(r\"^Rs\\s+\", \"\",str(x))))\n",
    "data[\"Average\"] = pd.to_numeric(data[\"Average\"].apply(lambda x: x if not str(x).startswith(\"Rs\") else re.sub(r\"^Rs\\s+\", \"\", str(x))))"
   ]
  },
  {
   "cell_type": "code",
   "execution_count": 6,
   "id": "fa89fdf5-4856-4b70-ad36-d308b5eaba96",
   "metadata": {},
   "outputs": [],
   "source": [
    "selected_commodities = ['Onion Dry (Indian)', 'Tomato Big(Nepali)', 'Potato White', 'Carrot(Local)', 'Apple(Jholey)', 'Spinach', 'Banana', 'Cucumber(Local)', 'Garlic Dry Nepali', 'Lettuce']\n",
    "selected_data = data[data['Commodity'].isin(selected_commodities)].copy()"
   ]
  },
  {
   "cell_type": "code",
   "execution_count": 7,
   "id": "70bb7604-8a5b-4492-b0e3-1e57f3b0b6e2",
   "metadata": {},
   "outputs": [
    {
     "data": {
      "text/html": [
       "<div>\n",
       "<style scoped>\n",
       "    .dataframe tbody tr th:only-of-type {\n",
       "        vertical-align: middle;\n",
       "    }\n",
       "\n",
       "    .dataframe tbody tr th {\n",
       "        vertical-align: top;\n",
       "    }\n",
       "\n",
       "    .dataframe thead th {\n",
       "        text-align: right;\n",
       "    }\n",
       "</style>\n",
       "<table border=\"1\" class=\"dataframe\">\n",
       "  <thead>\n",
       "    <tr style=\"text-align: right;\">\n",
       "      <th></th>\n",
       "      <th>Commodity</th>\n",
       "      <th>Date</th>\n",
       "      <th>Unit</th>\n",
       "      <th>Minimum</th>\n",
       "      <th>Maximum</th>\n",
       "      <th>Average</th>\n",
       "    </tr>\n",
       "  </thead>\n",
       "  <tbody>\n",
       "    <tr>\n",
       "      <th>0</th>\n",
       "      <td>Tomato Big(Nepali)</td>\n",
       "      <td>2013-06-16</td>\n",
       "      <td>Kg</td>\n",
       "      <td>35.0</td>\n",
       "      <td>40.0</td>\n",
       "      <td>37.50</td>\n",
       "    </tr>\n",
       "    <tr>\n",
       "      <th>3</th>\n",
       "      <td>Potato White</td>\n",
       "      <td>2013-06-16</td>\n",
       "      <td>Kg</td>\n",
       "      <td>15.0</td>\n",
       "      <td>16.0</td>\n",
       "      <td>15.50</td>\n",
       "    </tr>\n",
       "    <tr>\n",
       "      <th>4</th>\n",
       "      <td>Onion Dry (Indian)</td>\n",
       "      <td>2013-06-16</td>\n",
       "      <td>Kg</td>\n",
       "      <td>28.0</td>\n",
       "      <td>30.0</td>\n",
       "      <td>29.00</td>\n",
       "    </tr>\n",
       "    <tr>\n",
       "      <th>5</th>\n",
       "      <td>Carrot(Local)</td>\n",
       "      <td>2013-06-16</td>\n",
       "      <td>Kg</td>\n",
       "      <td>30.0</td>\n",
       "      <td>35.0</td>\n",
       "      <td>32.50</td>\n",
       "    </tr>\n",
       "    <tr>\n",
       "      <th>40</th>\n",
       "      <td>Lettuce</td>\n",
       "      <td>2013-06-16</td>\n",
       "      <td>Kg</td>\n",
       "      <td>55.0</td>\n",
       "      <td>60.0</td>\n",
       "      <td>57.50</td>\n",
       "    </tr>\n",
       "    <tr>\n",
       "      <th>...</th>\n",
       "      <td>...</td>\n",
       "      <td>...</td>\n",
       "      <td>...</td>\n",
       "      <td>...</td>\n",
       "      <td>...</td>\n",
       "      <td>...</td>\n",
       "    </tr>\n",
       "    <tr>\n",
       "      <th>280800</th>\n",
       "      <td>Cucumber(Local)</td>\n",
       "      <td>2023-09-28</td>\n",
       "      <td>KG</td>\n",
       "      <td>60.0</td>\n",
       "      <td>70.0</td>\n",
       "      <td>65.00</td>\n",
       "    </tr>\n",
       "    <tr>\n",
       "      <th>280808</th>\n",
       "      <td>Garlic Dry Nepali</td>\n",
       "      <td>2023-09-28</td>\n",
       "      <td>KG</td>\n",
       "      <td>250.0</td>\n",
       "      <td>260.0</td>\n",
       "      <td>256.67</td>\n",
       "    </tr>\n",
       "    <tr>\n",
       "      <th>280816</th>\n",
       "      <td>Lettuce</td>\n",
       "      <td>2023-09-28</td>\n",
       "      <td>KG</td>\n",
       "      <td>90.0</td>\n",
       "      <td>100.0</td>\n",
       "      <td>96.67</td>\n",
       "    </tr>\n",
       "    <tr>\n",
       "      <th>280826</th>\n",
       "      <td>Onion Dry (Indian)</td>\n",
       "      <td>2023-09-28</td>\n",
       "      <td>KG</td>\n",
       "      <td>70.0</td>\n",
       "      <td>74.0</td>\n",
       "      <td>71.60</td>\n",
       "    </tr>\n",
       "    <tr>\n",
       "      <th>280840</th>\n",
       "      <td>Potato White</td>\n",
       "      <td>2023-09-28</td>\n",
       "      <td>KG</td>\n",
       "      <td>46.0</td>\n",
       "      <td>48.0</td>\n",
       "      <td>47.00</td>\n",
       "    </tr>\n",
       "  </tbody>\n",
       "</table>\n",
       "<p>30391 rows × 6 columns</p>\n",
       "</div>"
      ],
      "text/plain": [
       "                 Commodity       Date Unit  Minimum  Maximum  Average\n",
       "0       Tomato Big(Nepali) 2013-06-16   Kg     35.0     40.0    37.50\n",
       "3             Potato White 2013-06-16   Kg     15.0     16.0    15.50\n",
       "4       Onion Dry (Indian) 2013-06-16   Kg     28.0     30.0    29.00\n",
       "5            Carrot(Local) 2013-06-16   Kg     30.0     35.0    32.50\n",
       "40                 Lettuce 2013-06-16   Kg     55.0     60.0    57.50\n",
       "...                    ...        ...  ...      ...      ...      ...\n",
       "280800     Cucumber(Local) 2023-09-28   KG     60.0     70.0    65.00\n",
       "280808   Garlic Dry Nepali 2023-09-28   KG    250.0    260.0   256.67\n",
       "280816             Lettuce 2023-09-28   KG     90.0    100.0    96.67\n",
       "280826  Onion Dry (Indian) 2023-09-28   KG     70.0     74.0    71.60\n",
       "280840        Potato White 2023-09-28   KG     46.0     48.0    47.00\n",
       "\n",
       "[30391 rows x 6 columns]"
      ]
     },
     "execution_count": 7,
     "metadata": {},
     "output_type": "execute_result"
    }
   ],
   "source": [
    "selected_data"
   ]
  },
  {
   "cell_type": "code",
   "execution_count": 8,
   "id": "9f08a9b8-f4d0-4b7c-92d4-5d43007f4c0c",
   "metadata": {},
   "outputs": [],
   "source": [
    "selected_data.loc[:, 'Season'] = selected_data['Date'].dt.month.map({1: 'Winter', 2: 'Winter', 3: 'Spring', 4: 'Spring', 5: 'Spring', 6: 'Summer', 7: 'Summer', 8: 'Summer', 9: 'Fall', 10: 'Fall', 11: 'Fall', 12: 'Winter'})"
   ]
  },
  {
   "cell_type": "code",
   "execution_count": 10,
   "id": "8063d6a9-c80b-4c11-a392-d2d38fdc8ea1",
   "metadata": {},
   "outputs": [
    {
     "data": {
      "text/html": [
       "<div>\n",
       "<style scoped>\n",
       "    .dataframe tbody tr th:only-of-type {\n",
       "        vertical-align: middle;\n",
       "    }\n",
       "\n",
       "    .dataframe tbody tr th {\n",
       "        vertical-align: top;\n",
       "    }\n",
       "\n",
       "    .dataframe thead th {\n",
       "        text-align: right;\n",
       "    }\n",
       "</style>\n",
       "<table border=\"1\" class=\"dataframe\">\n",
       "  <thead>\n",
       "    <tr style=\"text-align: right;\">\n",
       "      <th></th>\n",
       "      <th>Commodity</th>\n",
       "      <th>Date</th>\n",
       "      <th>Unit</th>\n",
       "      <th>Minimum</th>\n",
       "      <th>Maximum</th>\n",
       "      <th>Average</th>\n",
       "      <th>Season</th>\n",
       "    </tr>\n",
       "  </thead>\n",
       "  <tbody>\n",
       "    <tr>\n",
       "      <th>0</th>\n",
       "      <td>Tomato Big(Nepali)</td>\n",
       "      <td>2013-06-16</td>\n",
       "      <td>Kg</td>\n",
       "      <td>35.0</td>\n",
       "      <td>40.0</td>\n",
       "      <td>37.50</td>\n",
       "      <td>Summer</td>\n",
       "    </tr>\n",
       "    <tr>\n",
       "      <th>3</th>\n",
       "      <td>Potato White</td>\n",
       "      <td>2013-06-16</td>\n",
       "      <td>Kg</td>\n",
       "      <td>15.0</td>\n",
       "      <td>16.0</td>\n",
       "      <td>15.50</td>\n",
       "      <td>Summer</td>\n",
       "    </tr>\n",
       "    <tr>\n",
       "      <th>4</th>\n",
       "      <td>Onion Dry (Indian)</td>\n",
       "      <td>2013-06-16</td>\n",
       "      <td>Kg</td>\n",
       "      <td>28.0</td>\n",
       "      <td>30.0</td>\n",
       "      <td>29.00</td>\n",
       "      <td>Summer</td>\n",
       "    </tr>\n",
       "    <tr>\n",
       "      <th>5</th>\n",
       "      <td>Carrot(Local)</td>\n",
       "      <td>2013-06-16</td>\n",
       "      <td>Kg</td>\n",
       "      <td>30.0</td>\n",
       "      <td>35.0</td>\n",
       "      <td>32.50</td>\n",
       "      <td>Summer</td>\n",
       "    </tr>\n",
       "    <tr>\n",
       "      <th>40</th>\n",
       "      <td>Lettuce</td>\n",
       "      <td>2013-06-16</td>\n",
       "      <td>Kg</td>\n",
       "      <td>55.0</td>\n",
       "      <td>60.0</td>\n",
       "      <td>57.50</td>\n",
       "      <td>Summer</td>\n",
       "    </tr>\n",
       "    <tr>\n",
       "      <th>...</th>\n",
       "      <td>...</td>\n",
       "      <td>...</td>\n",
       "      <td>...</td>\n",
       "      <td>...</td>\n",
       "      <td>...</td>\n",
       "      <td>...</td>\n",
       "      <td>...</td>\n",
       "    </tr>\n",
       "    <tr>\n",
       "      <th>280800</th>\n",
       "      <td>Cucumber(Local)</td>\n",
       "      <td>2023-09-28</td>\n",
       "      <td>KG</td>\n",
       "      <td>60.0</td>\n",
       "      <td>70.0</td>\n",
       "      <td>65.00</td>\n",
       "      <td>Fall</td>\n",
       "    </tr>\n",
       "    <tr>\n",
       "      <th>280808</th>\n",
       "      <td>Garlic Dry Nepali</td>\n",
       "      <td>2023-09-28</td>\n",
       "      <td>KG</td>\n",
       "      <td>250.0</td>\n",
       "      <td>260.0</td>\n",
       "      <td>256.67</td>\n",
       "      <td>Fall</td>\n",
       "    </tr>\n",
       "    <tr>\n",
       "      <th>280816</th>\n",
       "      <td>Lettuce</td>\n",
       "      <td>2023-09-28</td>\n",
       "      <td>KG</td>\n",
       "      <td>90.0</td>\n",
       "      <td>100.0</td>\n",
       "      <td>96.67</td>\n",
       "      <td>Fall</td>\n",
       "    </tr>\n",
       "    <tr>\n",
       "      <th>280826</th>\n",
       "      <td>Onion Dry (Indian)</td>\n",
       "      <td>2023-09-28</td>\n",
       "      <td>KG</td>\n",
       "      <td>70.0</td>\n",
       "      <td>74.0</td>\n",
       "      <td>71.60</td>\n",
       "      <td>Fall</td>\n",
       "    </tr>\n",
       "    <tr>\n",
       "      <th>280840</th>\n",
       "      <td>Potato White</td>\n",
       "      <td>2023-09-28</td>\n",
       "      <td>KG</td>\n",
       "      <td>46.0</td>\n",
       "      <td>48.0</td>\n",
       "      <td>47.00</td>\n",
       "      <td>Fall</td>\n",
       "    </tr>\n",
       "  </tbody>\n",
       "</table>\n",
       "<p>30391 rows × 7 columns</p>\n",
       "</div>"
      ],
      "text/plain": [
       "                 Commodity       Date Unit  Minimum  Maximum  Average  Season\n",
       "0       Tomato Big(Nepali) 2013-06-16   Kg     35.0     40.0    37.50  Summer\n",
       "3             Potato White 2013-06-16   Kg     15.0     16.0    15.50  Summer\n",
       "4       Onion Dry (Indian) 2013-06-16   Kg     28.0     30.0    29.00  Summer\n",
       "5            Carrot(Local) 2013-06-16   Kg     30.0     35.0    32.50  Summer\n",
       "40                 Lettuce 2013-06-16   Kg     55.0     60.0    57.50  Summer\n",
       "...                    ...        ...  ...      ...      ...      ...     ...\n",
       "280800     Cucumber(Local) 2023-09-28   KG     60.0     70.0    65.00    Fall\n",
       "280808   Garlic Dry Nepali 2023-09-28   KG    250.0    260.0   256.67    Fall\n",
       "280816             Lettuce 2023-09-28   KG     90.0    100.0    96.67    Fall\n",
       "280826  Onion Dry (Indian) 2023-09-28   KG     70.0     74.0    71.60    Fall\n",
       "280840        Potato White 2023-09-28   KG     46.0     48.0    47.00    Fall\n",
       "\n",
       "[30391 rows x 7 columns]"
      ]
     },
     "execution_count": 10,
     "metadata": {},
     "output_type": "execute_result"
    }
   ],
   "source": [
    "selected_data"
   ]
  },
  {
   "cell_type": "code",
   "execution_count": null,
   "id": "105765b1-9bdb-4e0b-9c82-825abd3ff1d6",
   "metadata": {},
   "outputs": [],
   "source": []
  },
  {
   "cell_type": "code",
   "execution_count": 39,
   "id": "6a0ef181-408b-48e5-a312-eed21ced98bc",
   "metadata": {},
   "outputs": [
    {
     "data": {
      "text/plain": [
       "Commodity     object\n",
       "Date          object\n",
       "Unit          object\n",
       "Minimum      float64\n",
       "Maximum      float64\n",
       "Average      float64\n",
       "dtype: object"
      ]
     },
     "execution_count": 39,
     "metadata": {},
     "output_type": "execute_result"
    }
   ],
   "source": [
    "average_skewness = co['Average'].skew()\n",
    "print(f'Skewness of Average Price: {average_skewness}')\n",
    "\n",
    "# Plot the distribution of 'Average' prices\n",
    "plt.figure(figsize=(8, 6))\n",
    "plt.hist(selected_data['Average'], bins=30, edgecolor='black')\n",
    "plt.title('Distribution of Average Prices')\n",
    "plt.xlabel('Average Price')\n",
    "plt.ylabel('Frequency')\n",
    "plt.show()"
   ]
  },
  {
   "cell_type": "code",
   "execution_count": 11,
   "id": "6cf42d55-2bb2-4db1-a5a2-998b7d7a368c",
   "metadata": {},
   "outputs": [
    {
     "name": "stdout",
     "output_type": "stream",
     "text": [
      "                 Commodity       Date Unit  Minimum  Maximum  Average  Season\n",
      "4       Onion Dry (Indian) 2013-06-16   Kg     28.0     30.0    29.00  Summer\n",
      "78      Onion Dry (Indian) 2013-06-17   Kg     29.0     30.0    29.50  Summer\n",
      "151     Onion Dry (Indian) 2013-06-18   Kg     33.0     35.0    34.00  Summer\n",
      "224     Onion Dry (Indian) 2013-06-19   Kg     34.0     35.0    34.50  Summer\n",
      "297     Onion Dry (Indian) 2013-06-20   Kg     35.0     36.0    35.50  Summer\n",
      "...                    ...        ...  ...      ...      ...      ...     ...\n",
      "280447  Onion Dry (Indian) 2023-09-24   KG     64.0     70.0    66.33    Fall\n",
      "280541  Onion Dry (Indian) 2023-09-25   KG     68.0     70.0    69.20    Fall\n",
      "280637  Onion Dry (Indian) 2023-09-26   KG     68.0     70.0    69.20    Fall\n",
      "280731  Onion Dry (Indian) 2023-09-27   KG     70.0     74.0    71.20    Fall\n",
      "280826  Onion Dry (Indian) 2023-09-28   KG     70.0     74.0    71.60    Fall\n",
      "\n",
      "[3582 rows x 7 columns]\n"
     ]
    }
   ],
   "source": [
    "commodity_name = 'Onion Dry (Indian)'\n",
    "\n",
    "# Filter data for the specified commodity\n",
    "commodity_data = selected_data[selected_data['Commodity'] == commodity_name]\n",
    "\n",
    "# Display the data for the specified commodity\n",
    "print(commodity_data)"
   ]
  },
  {
   "cell_type": "code",
   "execution_count": 12,
   "id": "02ed60df-53a3-4aca-b985-f7a73834f861",
   "metadata": {},
   "outputs": [],
   "source": [
    "commodity_data.to_csv(r'C:\\Users\\nirvi\\OneDrive\\Desktop\\Programs\\Mlcurrent\\onion.csv', index=False)"
   ]
  },
  {
   "cell_type": "code",
   "execution_count": 13,
   "id": "feff448b-b444-48f1-a11d-e75bb066e956",
   "metadata": {},
   "outputs": [
    {
     "name": "stdout",
     "output_type": "stream",
     "text": [
      "Skewness of Average Price: 2.1157472166786127\n"
     ]
    },
    {
     "data": {
      "image/png": "[encoded data removed]",
      "text/plain": [
       "<Figure size 800x600 with 1 Axes>"
      ]
     },
     "metadata": {},
     "output_type": "display_data"
    }
   ],
   "source": [
    "average_skewness = commodity_data['Average'].skew()\n",
    "print(f'Skewness of Average Price: {average_skewness}')\n",
    "\n",
    "# Plot the distribution of 'Average' prices\n",
    "plt.figure(figsize=(8, 6))\n",
    "plt.hist(selected_data['Average'], bins=30, edgecolor='black')\n",
    "plt.title('Distribution of Average Prices')\n",
    "plt.xlabel('Average Price')\n",
    "plt.ylabel('Frequency')\n",
    "plt.show()"
   ]
  },
  {
   "cell_type": "code",
   "execution_count": 16,
   "id": "e45ce213-07ba-4df3-9056-66147b7d2333",
   "metadata": {},
   "outputs": [
    {
     "name": "stderr",
     "output_type": "stream",
     "text": [
      "C:\\Users\\nirvi\\AppData\\Local\\Temp\\ipykernel_27664\\3199805893.py:1: SettingWithCopyWarning: \n",
      "A value is trying to be set on a copy of a slice from a DataFrame.\n",
      "Try using .loc[row_indexer,col_indexer] = value instead\n",
      "\n",
      "See the caveats in the documentation: https://pandas.pydata.org/pandas-docs/stable/user_guide/indexing.html#returning-a-view-versus-a-copy\n",
      "  commodity_data['log_average'] = np.log1p(commodity_data['Average'])\n"
     ]
    }
   ],
   "source": [
    "commodity_data['log_average'] = np.log1p(commodity_data['Average'])"
   ]
  },
  {
   "cell_type": "code",
   "execution_count": 17,
   "id": "e8957401-d632-41dd-bf68-d80db37ee53a",
   "metadata": {},
   "outputs": [
    {
     "data": {
      "image/png": "[encoded data removed]",
      "text/plain": [
       "<Figure size 800x600 with 1 Axes>"
      ]
     },
     "metadata": {},
     "output_type": "display_data"
    }
   ],
   "source": [
    "plt.figure(figsize=(8, 6))\n",
    "plt.hist(commodity_data['log_average'], bins=30, edgecolor='black')\n",
    "plt.title('Histogram of Log-Transformed Average Prices')\n",
    "plt.xlabel('Log-Transformed Average Price')\n",
    "plt.ylabel('Frequency')\n",
    "plt.show()"
   ]
  },
  {
   "cell_type": "code",
   "execution_count": 18,
   "id": "db8671fe-f5ef-4cb8-88cd-b5b8a095f960",
   "metadata": {},
   "outputs": [
    {
     "name": "stdout",
     "output_type": "stream",
     "text": [
      "              Commodity       Date Unit  Minimum  Maximum  Average  \\\n",
      "4    Onion Dry (Indian) 2013-06-16   Kg     28.0     30.0     29.0   \n",
      "78   Onion Dry (Indian) 2013-06-17   Kg     29.0     30.0     29.5   \n",
      "151  Onion Dry (Indian) 2013-06-18   Kg     33.0     35.0     34.0   \n",
      "224  Onion Dry (Indian) 2013-06-19   Kg     34.0     35.0     34.5   \n",
      "297  Onion Dry (Indian) 2013-06-20   Kg     35.0     36.0     35.5   \n",
      "\n",
      "     log_average  Season_Fall  Season_Spring  Season_Summer  Season_Winter  \n",
      "4       3.401197        False          False           True          False  \n",
      "78      3.417727        False          False           True          False  \n",
      "151     3.555348        False          False           True          False  \n",
      "224     3.569533        False          False           True          False  \n",
      "297     3.597312        False          False           True          False  \n"
     ]
    },
    {
     "name": "stderr",
     "output_type": "stream",
     "text": [
      "C:\\Users\\nirvi\\AppData\\Local\\Temp\\ipykernel_27664\\2918310024.py:1: SettingWithCopyWarning: \n",
      "A value is trying to be set on a copy of a slice from a DataFrame.\n",
      "Try using .loc[row_indexer,col_indexer] = value instead\n",
      "\n",
      "See the caveats in the documentation: https://pandas.pydata.org/pandas-docs/stable/user_guide/indexing.html#returning-a-view-versus-a-copy\n",
      "  commodity_data['Season'] = pd.Categorical(commodity_data['Season'])\n"
     ]
    }
   ],
   "source": [
    "commodity_data['Season'] = pd.Categorical(commodity_data['Season'])\n",
    "\n",
    "# Create one-hot encoded columns\n",
    "season_dummies = pd.get_dummies(commodity_data['Season'], prefix='Season')\n",
    "\n",
    "# Concatenate the one-hot encoded columns with the original DataFrame\n",
    "commodity_data = pd.concat([commodity_data, season_dummies], axis=1)\n",
    "\n",
    "# Drop the original 'season' column if needed\n",
    "commodity_data.drop('Season', axis=1, inplace=True)\n",
    "\n",
    "# Display the updated DataFrame\n",
    "print(commodity_data.head())"
   ]
  },
  {
   "cell_type": "code",
   "execution_count": 19,
   "id": "52431a74-1bcc-4450-a7f3-d079a3ed1324",
   "metadata": {},
   "outputs": [],
   "source": [
    "commodity_data['Date'] = pd.to_datetime(commodity_data['Date'])\n",
    "\n",
    "# Extract features from the date\n",
    "commodity_data['day'] = commodity_data['Date'].dt.day\n",
    "commodity_data['month'] = commodity_data['Date'].dt.month\n",
    "commodity_data['year'] = commodity_data['Date'].dt.year"
   ]
  },
  {
   "cell_type": "code",
   "execution_count": 20,
   "id": "6e68f761-4803-42c2-a8d5-593f2e638be0",
   "metadata": {},
   "outputs": [
    {
     "data": {
      "text/html": [
       "<div>\n",
       "<style scoped>\n",
       "    .dataframe tbody tr th:only-of-type {\n",
       "        vertical-align: middle;\n",
       "    }\n",
       "\n",
       "    .dataframe tbody tr th {\n",
       "        vertical-align: top;\n",
       "    }\n",
       "\n",
       "    .dataframe thead th {\n",
       "        text-align: right;\n",
       "    }\n",
       "</style>\n",
       "<table border=\"1\" class=\"dataframe\">\n",
       "  <thead>\n",
       "    <tr style=\"text-align: right;\">\n",
       "      <th></th>\n",
       "      <th>Commodity</th>\n",
       "      <th>Date</th>\n",
       "      <th>Unit</th>\n",
       "      <th>Minimum</th>\n",
       "      <th>Maximum</th>\n",
       "      <th>Average</th>\n",
       "      <th>log_average</th>\n",
       "      <th>Season_Fall</th>\n",
       "      <th>Season_Spring</th>\n",
       "      <th>Season_Summer</th>\n",
       "      <th>Season_Winter</th>\n",
       "      <th>day</th>\n",
       "      <th>month</th>\n",
       "      <th>year</th>\n",
       "    </tr>\n",
       "  </thead>\n",
       "  <tbody>\n",
       "    <tr>\n",
       "      <th>4</th>\n",
       "      <td>Onion Dry (Indian)</td>\n",
       "      <td>2013-06-16</td>\n",
       "      <td>Kg</td>\n",
       "      <td>28.0</td>\n",
       "      <td>30.0</td>\n",
       "      <td>29.0</td>\n",
       "      <td>3.401197</td>\n",
       "      <td>False</td>\n",
       "      <td>False</td>\n",
       "      <td>True</td>\n",
       "      <td>False</td>\n",
       "      <td>16</td>\n",
       "      <td>6</td>\n",
       "      <td>2013</td>\n",
       "    </tr>\n",
       "    <tr>\n",
       "      <th>78</th>\n",
       "      <td>Onion Dry (Indian)</td>\n",
       "      <td>2013-06-17</td>\n",
       "      <td>Kg</td>\n",
       "      <td>29.0</td>\n",
       "      <td>30.0</td>\n",
       "      <td>29.5</td>\n",
       "      <td>3.417727</td>\n",
       "      <td>False</td>\n",
       "      <td>False</td>\n",
       "      <td>True</td>\n",
       "      <td>False</td>\n",
       "      <td>17</td>\n",
       "      <td>6</td>\n",
       "      <td>2013</td>\n",
       "    </tr>\n",
       "    <tr>\n",
       "      <th>151</th>\n",
       "      <td>Onion Dry (Indian)</td>\n",
       "      <td>2013-06-18</td>\n",
       "      <td>Kg</td>\n",
       "      <td>33.0</td>\n",
       "      <td>35.0</td>\n",
       "      <td>34.0</td>\n",
       "      <td>3.555348</td>\n",
       "      <td>False</td>\n",
       "      <td>False</td>\n",
       "      <td>True</td>\n",
       "      <td>False</td>\n",
       "      <td>18</td>\n",
       "      <td>6</td>\n",
       "      <td>2013</td>\n",
       "    </tr>\n",
       "    <tr>\n",
       "      <th>224</th>\n",
       "      <td>Onion Dry (Indian)</td>\n",
       "      <td>2013-06-19</td>\n",
       "      <td>Kg</td>\n",
       "      <td>34.0</td>\n",
       "      <td>35.0</td>\n",
       "      <td>34.5</td>\n",
       "      <td>3.569533</td>\n",
       "      <td>False</td>\n",
       "      <td>False</td>\n",
       "      <td>True</td>\n",
       "      <td>False</td>\n",
       "      <td>19</td>\n",
       "      <td>6</td>\n",
       "      <td>2013</td>\n",
       "    </tr>\n",
       "    <tr>\n",
       "      <th>297</th>\n",
       "      <td>Onion Dry (Indian)</td>\n",
       "      <td>2013-06-20</td>\n",
       "      <td>Kg</td>\n",
       "      <td>35.0</td>\n",
       "      <td>36.0</td>\n",
       "      <td>35.5</td>\n",
       "      <td>3.597312</td>\n",
       "      <td>False</td>\n",
       "      <td>False</td>\n",
       "      <td>True</td>\n",
       "      <td>False</td>\n",
       "      <td>20</td>\n",
       "      <td>6</td>\n",
       "      <td>2013</td>\n",
       "    </tr>\n",
       "  </tbody>\n",
       "</table>\n",
       "</div>"
      ],
      "text/plain": [
       "              Commodity       Date Unit  Minimum  Maximum  Average  \\\n",
       "4    Onion Dry (Indian) 2013-06-16   Kg     28.0     30.0     29.0   \n",
       "78   Onion Dry (Indian) 2013-06-17   Kg     29.0     30.0     29.5   \n",
       "151  Onion Dry (Indian) 2013-06-18   Kg     33.0     35.0     34.0   \n",
       "224  Onion Dry (Indian) 2013-06-19   Kg     34.0     35.0     34.5   \n",
       "297  Onion Dry (Indian) 2013-06-20   Kg     35.0     36.0     35.5   \n",
       "\n",
       "     log_average  Season_Fall  Season_Spring  Season_Summer  Season_Winter  \\\n",
       "4       3.401197        False          False           True          False   \n",
       "78      3.417727        False          False           True          False   \n",
       "151     3.555348        False          False           True          False   \n",
       "224     3.569533        False          False           True          False   \n",
       "297     3.597312        False          False           True          False   \n",
       "\n",
       "     day  month  year  \n",
       "4     16      6  2013  \n",
       "78    17      6  2013  \n",
       "151   18      6  2013  \n",
       "224   19      6  2013  \n",
       "297   20      6  2013  "
      ]
     },
     "execution_count": 20,
     "metadata": {},
     "output_type": "execute_result"
    }
   ],
   "source": [
    "commodity_data.head()"
   ]
  },
  {
   "cell_type": "code",
   "execution_count": 24,
   "id": "da5f98b0-0d18-40f2-9203-38dff8942629",
   "metadata": {},
   "outputs": [],
   "source": [
    "from sklearn.model_selection import train_test_split\n",
    "from sklearn.linear_model import LinearRegression\n",
    "from sklearn.metrics import mean_squared_error\n",
    "import numpy as np\n",
    "\n",
    "# Assuming your target variable is 'Average'\n",
    "# features: X, target: y\n",
    "X = commodity_data.drop(['Commodity','Date','Unit'], axis=1)  # Adjust features as needed\n",
    "y = commodity_data['Average']\n",
    "\n",
    "# Split the data into training and testing sets\n",
    "X_train, X_test, y_train, y_test = train_test_split(X, y, test_size=0.2, random_state=42)"
   ]
  },
  {
   "cell_type": "code",
   "execution_count": 25,
   "id": "e14457a6-5255-4050-8125-3da3bd11c9df",
   "metadata": {},
   "outputs": [
    {
     "data": {
      "text/plain": [
       "Commodity                object\n",
       "Date             datetime64[ns]\n",
       "Unit                     object\n",
       "Minimum                 float64\n",
       "Maximum                 float64\n",
       "Average                 float64\n",
       "log_average             float64\n",
       "Season_Fall                bool\n",
       "Season_Spring              bool\n",
       "Season_Summer              bool\n",
       "Season_Winter              bool\n",
       "day                       int32\n",
       "month                     int32\n",
       "year                      int32\n",
       "dtype: object"
      ]
     },
     "execution_count": 25,
     "metadata": {},
     "output_type": "execute_result"
    }
   ],
   "source": [
    "commodity_data.dtypes"
   ]
  },
  {
   "cell_type": "code",
   "execution_count": 26,
   "id": "d16548b9-aacf-4e9e-b105-5134f144f87b",
   "metadata": {},
   "outputs": [],
   "source": [
    "model = LinearRegression()"
   ]
  },
  {
   "cell_type": "code",
   "execution_count": 27,
   "id": "5b038324-014d-4e1a-b02c-6912e1810eb5",
   "metadata": {},
   "outputs": [
    {
     "data": {
      "text/html": [
       "<style>#sk-container-id-1 {color: black;}#sk-container-id-1 pre{padding: 0;}#sk-container-id-1 div.sk-toggleable {background-color: white;}#sk-container-id-1 label.sk-toggleable__label {cursor: pointer;display: block;width: 100%;margin-bottom: 0;padding: 0.3em;box-sizing: border-box;text-align: center;}#sk-container-id-1 label.sk-toggleable__label-arrow:before {content: \"▸\";float: left;margin-right: 0.25em;color: #696969;}#sk-container-id-1 label.sk-toggleable__label-arrow:hover:before {color: black;}#sk-container-id-1 div.sk-estimator:hover label.sk-toggleable__label-arrow:before {color: black;}#sk-container-id-1 div.sk-toggleable__content {max-height: 0;max-width: 0;overflow: hidden;text-align: left;background-color: #f0f8ff;}#sk-container-id-1 div.sk-toggleable__content pre {margin: 0.2em;color: black;border-radius: 0.25em;background-color: #f0f8ff;}#sk-container-id-1 input.sk-toggleable__control:checked~div.sk-toggleable__content {max-height: 200px;max-width: 100%;overflow: auto;}#sk-container-id-1 input.sk-toggleable__control:checked~label.sk-toggleable__label-arrow:before {content: \"▾\";}#sk-container-id-1 div.sk-estimator input.sk-toggleable__control:checked~label.sk-toggleable__label {background-color: #d4ebff;}#sk-container-id-1 div.sk-label input.sk-toggleable__control:checked~label.sk-toggleable__label {background-color: #d4ebff;}#sk-container-id-1 input.sk-hidden--visually {border: 0;clip: rect(1px 1px 1px 1px);clip: rect(1px, 1px, 1px, 1px);height: 1px;margin: -1px;overflow: hidden;padding: 0;position: absolute;width: 1px;}#sk-container-id-1 div.sk-estimator {font-family: monospace;background-color: #f0f8ff;border: 1px dotted black;border-radius: 0.25em;box-sizing: border-box;margin-bottom: 0.5em;}#sk-container-id-1 div.sk-estimator:hover {background-color: #d4ebff;}#sk-container-id-1 div.sk-parallel-item::after {content: \"\";width: 100%;border-bottom: 1px solid gray;flex-grow: 1;}#sk-container-id-1 div.sk-label:hover label.sk-toggleable__label {background-color: #d4ebff;}#sk-container-id-1 div.sk-serial::before {content: \"\";position: absolute;border-left: 1px solid gray;box-sizing: border-box;top: 0;bottom: 0;left: 50%;z-index: 0;}#sk-container-id-1 div.sk-serial {display: flex;flex-direction: column;align-items: center;background-color: white;padding-right: 0.2em;padding-left: 0.2em;position: relative;}#sk-container-id-1 div.sk-item {position: relative;z-index: 1;}#sk-container-id-1 div.sk-parallel {display: flex;align-items: stretch;justify-content: center;background-color: white;position: relative;}#sk-container-id-1 div.sk-item::before, #sk-container-id-1 div.sk-parallel-item::before {content: \"\";position: absolute;border-left: 1px solid gray;box-sizing: border-box;top: 0;bottom: 0;left: 50%;z-index: -1;}#sk-container-id-1 div.sk-parallel-item {display: flex;flex-direction: column;z-index: 1;position: relative;background-color: white;}#sk-container-id-1 div.sk-parallel-item:first-child::after {align-self: flex-end;width: 50%;}#sk-container-id-1 div.sk-parallel-item:last-child::after {align-self: flex-start;width: 50%;}#sk-container-id-1 div.sk-parallel-item:only-child::after {width: 0;}#sk-container-id-1 div.sk-dashed-wrapped {border: 1px dashed gray;margin: 0 0.4em 0.5em 0.4em;box-sizing: border-box;padding-bottom: 0.4em;background-color: white;}#sk-container-id-1 div.sk-label label {font-family: monospace;font-weight: bold;display: inline-block;line-height: 1.2em;}#sk-container-id-1 div.sk-label-container {text-align: center;}#sk-container-id-1 div.sk-container {/* jupyter's `normalize.less` sets `[hidden] { display: none; }` but bootstrap.min.css set `[hidden] { display: none !important; }` so we also need the `!important` here to be able to override the default hidden behavior on the sphinx rendered scikit-learn.org. See: https://github.com/scikit-learn/scikit-learn/issues/21755 */display: inline-block !important;position: relative;}#sk-container-id-1 div.sk-text-repr-fallback {display: none;}</style><div id=\"sk-container-id-1\" class=\"sk-top-container\"><div class=\"sk-text-repr-fallback\"><pre>LinearRegression()</pre><b>In a Jupyter environment, please rerun this cell to show the HTML representation or trust the notebook. <br />On GitHub, the HTML representation is unable to render, please try loading this page with nbviewer.org.</b></div><div class=\"sk-container\" hidden><div class=\"sk-item\"><div class=\"sk-estimator sk-toggleable\"><input class=\"sk-toggleable__control sk-hidden--visually\" id=\"sk-estimator-id-1\" type=\"checkbox\" checked><label for=\"sk-estimator-id-1\" class=\"sk-toggleable__label sk-toggleable__label-arrow\">LinearRegression</label><div class=\"sk-toggleable__content\"><pre>LinearRegression()</pre></div></div></div></div></div>"
      ],
      "text/plain": [
       "LinearRegression()"
      ]
     },
     "execution_count": 27,
     "metadata": {},
     "output_type": "execute_result"
    }
   ],
   "source": [
    "model.fit(X_train, y_train)"
   ]
  },
  {
   "cell_type": "code",
   "execution_count": 28,
   "id": "12f1d633-9320-4591-b0ad-7638d82acb07",
   "metadata": {},
   "outputs": [],
   "source": [
    "y_pred = model.predict(X_test)"
   ]
  },
  {
   "cell_type": "code",
   "execution_count": 29,
   "id": "d7cc3868-53bc-4064-a15e-7386f73203c1",
   "metadata": {},
   "outputs": [
    {
     "name": "stdout",
     "output_type": "stream",
     "text": [
      "Root Mean Squared Error: 1.1114944851829664e-14\n"
     ]
    }
   ],
   "source": [
    "mse = mean_squared_error(y_test, y_pred)\n",
    "rmse = np.sqrt(mse)\n",
    "\n",
    "print(f\"Root Mean Squared Error: {rmse}\")"
   ]
  },
  {
   "cell_type": "code",
   "execution_count": 30,
   "id": "56f12b29-0e6f-44cf-907d-467b222473e0",
   "metadata": {},
   "outputs": [
    {
     "name": "stdout",
     "output_type": "stream",
     "text": [
      "R-squared: 1.0\n"
     ]
    }
   ],
   "source": [
    "from sklearn.metrics import r2_score\n",
    "\n",
    "r2 = r2_score(y_test, y_pred)\n",
    "print(f\"R-squared: {r2}\")"
   ]
  },
  {
   "cell_type": "code",
   "execution_count": 42,
   "id": "6e49eb2d-d67a-46a7-8899-4ead23a79cae",
   "metadata": {},
   "outputs": [
    {
     "name": "stdout",
     "output_type": "stream",
     "text": [
      "Predicted price for the next day:\n",
      "[-6.91317016e-15]\n"
     ]
    }
   ],
   "source": [
    "import pandas as pd\n",
    "from sklearn.model_selection import train_test_split\n",
    "from sklearn.linear_model import LinearRegression\n",
    "\n",
    "# Load your dataset\n",
    "onion_data = pd.read_csv('onion.csv')  # Replace 'onion.csv' with your file path\n",
    "\n",
    "# Get the latest date from your dataset\n",
    "latest_date = pd.to_datetime(onion_data['Date']).max()\n",
    "\n",
    "# Create a DataFrame for the next day\n",
    "next_day = latest_date + pd.DateOffset(days=1)\n",
    "next_day_data = pd.DataFrame({\n",
    "    \n",
    "    'Date': [next_day],  # Include other columns similar to your 'onion_data'\n",
    "    'Minimum': [0],  # Set Minimum to 0 for the next day\n",
    "    'Maximum': [0],  # Set Maximum to 0 for the next day\n",
    "    'Average': [0],\n",
    "    'log_average': [0], # Set log_average to 0 for the next day\n",
    "    'Season_Fall': [False],  # Replace with appropriate values\n",
    "    'Season_Spring': [True],  # Replace with appropriate values\n",
    "    'Season_Summer': [False],\n",
    "    'Season_Winter': [False],\n",
    "    'day': [next_day.day],\n",
    "    'month': [next_day.month],\n",
    "    'year': [next_day.year]\n",
    "    \n",
    "})\n",
    "\n",
    "# Drop non-feature columns and predict prices for the next day\n",
    "X_next_day = next_day_data.drop(['Date'], axis=1)  # Assuming 'Date' is non-feature\n",
    "predicted_price_next_day = model.predict(X_next_day)\n",
    "\n",
    "# Display the predicted price for the next day\n",
    "print(\"Predicted price for the next day:\")\n",
    "print(predicted_price_next_day)\n"
   ]
  },
  {
   "cell_type": "code",
   "execution_count": null,
   "id": "f89e499b-8f27-4ab6-a503-c4b69a8b631a",
   "metadata": {},
   "outputs": [],
   "source": []
  }
 ],
 "metadata": {
  "kernelspec": {
   "display_name": "Python 3 (ipykernel)",
   "language": "python",
   "name": "python3"
  },
  "language_info": {
   "codemirror_mode": {
    "name": "ipython",
    "version": 3
   },
   "file_extension": ".py",
   "mimetype": "text/x-python",
   "name": "python",
   "nbconvert_exporter": "python",
   "pygments_lexer": "ipython3",
   "version": "3.11.5"
  }
 },
 "nbformat": 4,
 "nbformat_minor": 5
}
